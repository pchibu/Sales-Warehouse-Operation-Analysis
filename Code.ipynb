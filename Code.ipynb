{
 "cells": [
  {
   "cell_type": "markdown",
   "metadata": {
    "collapsed": true
   },
   "source": [
    "## Sales and Warehouse Operation Analysis using Linear Programming\n",
    "A new strategy is being developed in the #GYD# involving 3 warehouses and the sales and distribution of 6 different products. \n",
    "This analysis is meant to inform the board and HOD of the sales prospects of these products and the market’s impact on supply \n",
    "and demand with a goal to maximize profits considering the varying warehouse operational limits, product prices, and possible \n",
    "changes that could occur."
   ]
  },
  {
   "cell_type": "code",
   "execution_count": 1,
   "metadata": {
    "collapsed": true
   },
   "outputs": [],
   "source": [
    "import numpy as np\n",
    "import pandas as pd\n",
    "from pulp import *"
   ]
  },
  {
   "cell_type": "code",
   "execution_count": 2,
   "metadata": {
    "collapsed": true
   },
   "outputs": [],
   "source": [
    "warehouse = ['A', 'B', 'C']\n",
    "product = ['IA', 'IB', 'JA', 'JB', 'KA', 'KB']"
   ]
  },
  {
   "cell_type": "code",
   "execution_count": 3,
   "metadata": {},
   "outputs": [],
   "source": [
    "unit_price = {\n",
    "         product[0]: {'A': 76, 'B': 75, 'C': 74},\n",
    "         product[1]: {'A': 78, 'B': 75, 'C': 76},\n",
    "         product[2]: {'A': 122, 'B': 123, 'C': 120},\n",
    "         product[3]: {'A': 120, 'B': 124, 'C': 121},\n",
    "         product[4]: {'A': 731, 'B': 735, 'C': 732},\n",
    "         product[5]: {'A': 730, 'B': 732, 'C': 734}\n",
    "        }"
   ]
  },
  {
   "cell_type": "code",
   "execution_count": 4,
   "metadata": {},
   "outputs": [],
   "source": [
    "unit_cost = {\n",
    "         product[0]: 65,\n",
    "         product[1]: 67,\n",
    "         product[2]: 104,\n",
    "         product[3]: 106,\n",
    "         product[4]: 615,\n",
    "         product[5]: 612\n",
    "}"
   ]
  },
  {
   "cell_type": "code",
   "execution_count": 5,
   "metadata": {},
   "outputs": [],
   "source": [
    "unit_holding_cost = {'cost': \n",
    "                     {\n",
    "    warehouse[0]: 4, \n",
    "    warehouse[1]: 3, \n",
    "    warehouse[2]: 4}\n",
    "                    }"
   ]
  },
  {
   "cell_type": "code",
   "execution_count": 6,
   "metadata": {},
   "outputs": [],
   "source": [
    "unit_transport_cost = { \n",
    "                     product[0]: 3.33,\n",
    "                     product[1]: 3,\n",
    "                     product[2]: 4,\n",
    "                     product[3]: 5,\n",
    "                     product[4]: 3,\n",
    "                     product[5]: 3.6\n",
    "}"
   ]
  },
  {
   "cell_type": "code",
   "execution_count": 7,
   "metadata": {},
   "outputs": [],
   "source": [
    "unit_loading_unloading_cost = {product[0]: 1, product[1]: 1, product[2]: 1, product[3]: 1, product[4]: 1, product[5]: 1}"
   ]
  },
  {
   "cell_type": "code",
   "execution_count": 8,
   "metadata": {},
   "outputs": [],
   "source": [
    "capacity = {'capacity': {warehouse[0]:45000, warehouse[1]:75000, warehouse[2]:48420}}"
   ]
  },
  {
   "cell_type": "code",
   "execution_count": 9,
   "metadata": {},
   "outputs": [],
   "source": [
    "demand = {\n",
    "         product[0]: 15000,\n",
    "         product[1]: 5000,\n",
    "         product[2]: 28472,\n",
    "         product[3]: 33218,\n",
    "         product[4]: 43365,\n",
    "         product[5]: 43365\n",
    "}"
   ]
  },
  {
   "cell_type": "code",
   "execution_count": 10,
   "metadata": {
    "scrolled": true
   },
   "outputs": [],
   "source": [
    "unit_profit = {}\n",
    "for i in warehouse:\n",
    "    for j in product:\n",
    "        c = unit_price[j][i]-unit_cost[j]-unit_holding_cost['cost'][i]-unit_transport_cost[j]-unit_loading_unloading_cost[j]\n",
    "        if j in unit_profit:\n",
    "            m = {i: round(c,2)}\n",
    "            unit_profit[j].update(m)\n",
    "        else:\n",
    "            n = {j: {i: round(c,2)}}\n",
    "            unit_profit.update(n)"
   ]
  },
  {
   "cell_type": "markdown",
   "metadata": {},
   "source": [
    "## Using PuLP"
   ]
  },
  {
   "cell_type": "code",
   "execution_count": 11,
   "metadata": {
    "collapsed": true
   },
   "outputs": [],
   "source": [
    "# Variable\n",
    "supply = pulp.LpVariable.dicts('supply', (product, warehouse), lowBound=0, cat= 'Integer')"
   ]
  },
  {
   "cell_type": "code",
   "execution_count": 12,
   "metadata": {
    "collapsed": true
   },
   "outputs": [],
   "source": [
    "# Problem Objective\n",
    "model = pulp.LpProblem('Maximize Profit', pulp.LpMaximize)"
   ]
  },
  {
   "cell_type": "code",
   "execution_count": 13,
   "metadata": {
    "collapsed": true
   },
   "outputs": [],
   "source": [
    "# Objective Function\n",
    "model += pulp.lpSum([[supply[j][i] * unit_profit[j][i]] for j in product for i in warehouse])"
   ]
  },
  {
   "cell_type": "code",
   "execution_count": 14,
   "metadata": {
    "collapsed": true
   },
   "outputs": [],
   "source": [
    "# Demand constraint\n",
    "for j in product:\n",
    "    model += pulp.lpSum([supply[j][i] for i in warehouse]) == demand[j]"
   ]
  },
  {
   "cell_type": "code",
   "execution_count": 15,
   "metadata": {},
   "outputs": [],
   "source": [
    "# Capacity Constraint\n",
    "for i in warehouse:\n",
    "    model += pulp.lpSum([supply[j][i] for j in product]) <= capacity['capacity'][i]"
   ]
  },
  {
   "cell_type": "code",
   "execution_count": 16,
   "metadata": {},
   "outputs": [
    {
     "data": {
      "text/plain": [
       "'Optimal'"
      ]
     },
     "execution_count": 16,
     "metadata": {},
     "output_type": "execute_result"
    }
   ],
   "source": [
    "model.solve()\n",
    "pulp.LpStatus[model.status]"
   ]
  },
  {
   "cell_type": "code",
   "execution_count": 17,
   "metadata": {},
   "outputs": [
    {
     "data": {
      "text/plain": [
       "10414820.0"
      ]
     },
     "execution_count": 17,
     "metadata": {},
     "output_type": "execute_result"
    }
   ],
   "source": [
    "pulp.value(model.objective)"
   ]
  },
  {
   "cell_type": "code",
   "execution_count": 18,
   "metadata": {},
   "outputs": [
    {
     "name": "stdout",
     "output_type": "stream",
     "text": [
      "supply_IA_A = 15000.0\n",
      "supply_IB_A = 5000.0\n",
      "supply_JA_A = 25000.0\n",
      "supply_JA_B = 3472.0\n",
      "supply_JB_B = 33218.0\n",
      "supply_KA_B = 38310.0\n",
      "supply_KA_C = 5055.0\n",
      "supply_KB_C = 43365.0\n",
      "Maximum profit = 10414820.0\n"
     ]
    }
   ],
   "source": [
    "for s in model.variables():\n",
    "    if s.varValue > 0:\n",
    "        print(s.name, '=', s.varValue)\n",
    "        \n",
    "print('Maximum profit =', value(model.objective))"
   ]
  },
  {
   "cell_type": "code",
   "execution_count": null,
   "metadata": {
    "collapsed": true
   },
   "outputs": [],
   "source": []
  },
  {
   "cell_type": "markdown",
   "metadata": {},
   "source": [
    " # Scenario 2\n",
    "Due to the unexpected peak in demand of some products they run out-of-stock at the warehouses shown in the table below (in store: 1, out-of-stock: 0)"
   ]
  },
  {
   "cell_type": "code",
   "execution_count": 19,
   "metadata": {},
   "outputs": [],
   "source": [
    "product_status = {\n",
    "    product[0]: {'A': 1, 'B': 1, 'C': 0},\n",
    "    product[1]: {'A': 1, 'B': 0, 'C': 1},\n",
    "    product[2]: {'A': 1, 'B': 1, 'C': 1},\n",
    "    product[3]: {'A': 1, 'B': 1, 'C': 1},\n",
    "    product[4]: {'A': 1, 'B': 0, 'C': 1},\n",
    "    product[5]: {'A': 0, 'B': 1, 'C': 1}\n",
    "}"
   ]
  },
  {
   "cell_type": "code",
   "execution_count": 20,
   "metadata": {
    "collapsed": true
   },
   "outputs": [],
   "source": [
    "# Variable\n",
    "supply = pulp.LpVariable.dicts('supply', (product, warehouse), lowBound=0, cat= 'Integer')"
   ]
  },
  {
   "cell_type": "code",
   "execution_count": 21,
   "metadata": {
    "collapsed": true
   },
   "outputs": [],
   "source": [
    "# Problem Objective\n",
    "model2 = pulp.LpProblem('Maximize Profit', pulp.LpMaximize)"
   ]
  },
  {
   "cell_type": "code",
   "execution_count": 22,
   "metadata": {
    "collapsed": true
   },
   "outputs": [],
   "source": [
    "# Objective Function\n",
    "model2 += pulp.lpSum([[supply[j][i] * unit_profit[j][i] * product_status[j][i]] for j in product for i in warehouse])"
   ]
  },
  {
   "cell_type": "code",
   "execution_count": 23,
   "metadata": {
    "collapsed": true
   },
   "outputs": [],
   "source": [
    "# Demand Constraint\n",
    "for j in product:\n",
    "    model2 += pulp.lpSum([supply[j][i] for i in warehouse]) == demand[j]"
   ]
  },
  {
   "cell_type": "code",
   "execution_count": 24,
   "metadata": {},
   "outputs": [],
   "source": [
    "# Capacity Constraint\n",
    "for i in warehouse:\n",
    "    model2 += pulp.lpSum([supply[j][i] for j in product]) <= capacity['capacity'][i]"
   ]
  },
  {
   "cell_type": "code",
   "execution_count": 25,
   "metadata": {},
   "outputs": [
    {
     "data": {
      "text/plain": [
       "'Optimal'"
      ]
     },
     "execution_count": 25,
     "metadata": {},
     "output_type": "execute_result"
    }
   ],
   "source": [
    "model2.solve()\n",
    "pulp.LpStatus[model2.status]"
   ]
  },
  {
   "cell_type": "code",
   "execution_count": 26,
   "metadata": {},
   "outputs": [
    {
     "data": {
      "text/plain": [
       "10273270.0"
      ]
     },
     "execution_count": 26,
     "metadata": {},
     "output_type": "execute_result"
    }
   ],
   "source": [
    "pulp.value(model2.objective)"
   ]
  },
  {
   "cell_type": "code",
   "execution_count": 27,
   "metadata": {},
   "outputs": [
    {
     "name": "stdout",
     "output_type": "stream",
     "text": [
      "supply_IA_A = 15000.0\n",
      "supply_IB_A = 5000.0\n",
      "supply_JA_B = 28472.0\n",
      "supply_JB_B = 33218.0\n",
      "supply_KA_A = 25000.0\n",
      "supply_KA_C = 18365.0\n",
      "supply_KB_B = 13310.0\n",
      "supply_KB_C = 30055.0\n",
      "Scenario 2 Maximum profit = 10273270.0\n"
     ]
    }
   ],
   "source": [
    "for s in model2.variables():\n",
    "    if s.varValue > 0:\n",
    "        print(s.name, '=', s.varValue)\n",
    "        \n",
    "print('Scenario 2 Maximum profit =', value(model2.objective))"
   ]
  },
  {
   "cell_type": "code",
   "execution_count": null,
   "metadata": {
    "collapsed": true
   },
   "outputs": [],
   "source": []
  },
  {
   "cell_type": "markdown",
   "metadata": {},
   "source": [
    "# Scenario 3\n",
    "In addition to the above scenario there is a delay in supply of some products which causes an increase in demand for their substitutes."
   ]
  },
  {
   "cell_type": "code",
   "execution_count": 28,
   "metadata": {},
   "outputs": [],
   "source": [
    "demand = {\n",
    "    'I': 20000, # product I -> product IA AND/OR product IB since they are substitute products\n",
    "    'J': 61690, # product J -> product JA AND/OR product JB since they are substitute products\n",
    "    'K': 86730  # product K -> product KA AND/OR product KB since they are substitute products\n",
    "}"
   ]
  },
  {
   "cell_type": "code",
   "execution_count": 29,
   "metadata": {
    "collapsed": true
   },
   "outputs": [],
   "source": [
    "# Variable\n",
    "supply = pulp.LpVariable.dicts('supply', (product, warehouse), lowBound=0, cat= 'Integer')"
   ]
  },
  {
   "cell_type": "code",
   "execution_count": 30,
   "metadata": {
    "collapsed": true
   },
   "outputs": [],
   "source": [
    "# Problem Objective\n",
    "model3 = pulp.LpProblem('Maximize Profit', pulp.LpMaximize)"
   ]
  },
  {
   "cell_type": "code",
   "execution_count": 31,
   "metadata": {
    "collapsed": true
   },
   "outputs": [],
   "source": [
    "# Objective Function\n",
    "model3 += pulp.lpSum([[supply[j][i] * unit_profit[j][i] * product_status[j][i]] for j in product for i in warehouse])"
   ]
  },
  {
   "cell_type": "code",
   "execution_count": 32,
   "metadata": {
    "collapsed": true
   },
   "outputs": [],
   "source": [
    "# Demand Constraint\n",
    "for d in demand:\n",
    "    model3 += pulp.lpSum([supply[j][i] for j in product if (j[0] == d) for i in warehouse]) == demand[d]"
   ]
  },
  {
   "cell_type": "code",
   "execution_count": 33,
   "metadata": {},
   "outputs": [],
   "source": [
    "# Capacity Constraint\n",
    "for i in warehouse:\n",
    "    model3 += pulp.lpSum([supply[j][i] for j in product]) <= capacity['capacity'][i]"
   ]
  },
  {
   "cell_type": "code",
   "execution_count": 34,
   "metadata": {},
   "outputs": [
    {
     "data": {
      "text/plain": [
       "'Optimal'"
      ]
     },
     "execution_count": 34,
     "metadata": {},
     "output_type": "execute_result"
    }
   ],
   "source": [
    "model3.solve()\n",
    "pulp.LpStatus[model3.status]"
   ]
  },
  {
   "cell_type": "code",
   "execution_count": 35,
   "metadata": {},
   "outputs": [
    {
     "data": {
      "text/plain": [
       "10485462.0"
      ]
     },
     "execution_count": 35,
     "metadata": {},
     "output_type": "execute_result"
    }
   ],
   "source": [
    "pulp.value(model3.objective)"
   ]
  },
  {
   "cell_type": "code",
   "execution_count": 36,
   "metadata": {},
   "outputs": [
    {
     "name": "stdout",
     "output_type": "stream",
     "text": [
      "supply_IB_A = 20000.0\n",
      "supply_JA_A = 25000.0\n",
      "supply_JA_B = 36690.0\n",
      "supply_KB_B = 38310.0\n",
      "supply_KB_C = 48420.0\n",
      "Scenario 3 Maximum profit = 10485462.0\n"
     ]
    }
   ],
   "source": [
    "for s in model3.variables():\n",
    "    if s.varValue > 0:\n",
    "        print(s.name, '=', s.varValue)\n",
    "        \n",
    "print('Scenario 3 Maximum profit =', value(model3.objective))"
   ]
  },
  {
   "cell_type": "code",
   "execution_count": null,
   "metadata": {
    "collapsed": true
   },
   "outputs": [],
   "source": []
  },
  {
   "cell_type": "markdown",
   "metadata": {},
   "source": [
    "# Scenario 4\n",
    "Considering the above scenarios, a contract was eventually signed with a particular customer for the specific delivery."
   ]
  },
  {
   "cell_type": "code",
   "execution_count": 37,
   "metadata": {},
   "outputs": [],
   "source": [
    "delivery = {\n",
    "    'I': {'A': 5000, 'B': 7000, 'C': 8000}, # product I -> product IA AND/OR product IB since they are substitute products\n",
    "    'J': {'A': 10000, 'B': 27000, 'C': 24690}, # product J -> product JA AND/OR product JB since they are substitute products\n",
    "    'K': {'A': 30000, 'B': 41000, 'C': 15730} # product K -> product KA AND/OR product KB since they are substitute products\n",
    "}"
   ]
  },
  {
   "cell_type": "code",
   "execution_count": 38,
   "metadata": {
    "collapsed": true
   },
   "outputs": [],
   "source": [
    "# Variable\n",
    "supply = pulp.LpVariable.dicts('supply', (product, warehouse), lowBound=0, cat= 'Integer')"
   ]
  },
  {
   "cell_type": "code",
   "execution_count": 39,
   "metadata": {
    "collapsed": true
   },
   "outputs": [],
   "source": [
    "# Problem Objective\n",
    "model4 = pulp.LpProblem('Maximize Profit', pulp.LpMaximize)"
   ]
  },
  {
   "cell_type": "code",
   "execution_count": 40,
   "metadata": {
    "collapsed": true
   },
   "outputs": [],
   "source": [
    "# Objective Function\n",
    "model4 += pulp.lpSum([[supply[j][i] * unit_profit[j][i] * product_status[j][i]] for j in product for i in warehouse])"
   ]
  },
  {
   "cell_type": "code",
   "execution_count": 41,
   "metadata": {
    "collapsed": true
   },
   "outputs": [],
   "source": [
    "# Demand Constraint\n",
    "for d in demand:\n",
    "    model4 += pulp.lpSum([supply[j][i] for j in product if (j[0] == d) for i in warehouse]) == demand[d]"
   ]
  },
  {
   "cell_type": "code",
   "execution_count": 42,
   "metadata": {},
   "outputs": [],
   "source": [
    "# Delivery Constraint\n",
    "for d in delivery:\n",
    "    for i in warehouse:\n",
    "        model4 += pulp.lpSum([supply[j][i]] for j in product if (j[0] == c)) <= delivery[d][i]"
   ]
  },
  {
   "cell_type": "code",
   "execution_count": 43,
   "metadata": {},
   "outputs": [
    {
     "data": {
      "text/plain": [
       "'Optimal'"
      ]
     },
     "execution_count": 43,
     "metadata": {},
     "output_type": "execute_result"
    }
   ],
   "source": [
    "model4.solve()\n",
    "pulp.LpStatus[model4.status]"
   ]
  },
  {
   "cell_type": "code",
   "execution_count": 44,
   "metadata": {},
   "outputs": [
    {
     "data": {
      "text/plain": [
       "10573772.0"
      ]
     },
     "execution_count": 44,
     "metadata": {},
     "output_type": "execute_result"
    }
   ],
   "source": [
    "pulp.value(model4.objective)"
   ]
  },
  {
   "cell_type": "code",
   "execution_count": 45,
   "metadata": {},
   "outputs": [
    {
     "name": "stdout",
     "output_type": "stream",
     "text": [
      "supply_IB_A = 20000.0\n",
      "supply_JA_B = 61690.0\n",
      "supply_KB_C = 86730.0\n",
      "Scenario 4 Maximum profit = 10573772.0\n"
     ]
    }
   ],
   "source": [
    "for s in model4.variables():\n",
    "    if s.varValue > 0:\n",
    "        print(s.name, '=', s.varValue)\n",
    "        \n",
    "print('Scenario 4 Maximum profit =', value(model4.objective))"
   ]
  },
  {
   "cell_type": "code",
   "execution_count": 46,
   "metadata": {},
   "outputs": [
    {
     "name": "stdout",
     "output_type": "stream",
     "text": [
      "Maximum profit = 10414820.0\n",
      "Scenario 2 Maximum profit = 10273270.0\n",
      "Scenario 3 Maximum profit = 10485462.0\n",
      "Scenario 4 Maximum profit = 10573772.0\n"
     ]
    }
   ],
   "source": [
    "print('Maximum profit =', value(model.objective))\n",
    "print('Scenario 2 Maximum profit =', value(model2.objective))\n",
    "print('Scenario 3 Maximum profit =', value(model3.objective))\n",
    "print('Scenario 4 Maximum profit =', value(model4.objective))"
   ]
  },
  {
   "cell_type": "code",
   "execution_count": null,
   "metadata": {
    "collapsed": true
   },
   "outputs": [],
   "source": []
  }
 ],
 "metadata": {
  "kernelspec": {
   "display_name": "Python 3",
   "language": "python",
   "name": "python3"
  },
  "language_info": {
   "codemirror_mode": {
    "name": "ipython",
    "version": 3
   },
   "file_extension": ".py",
   "mimetype": "text/x-python",
   "name": "python",
   "nbconvert_exporter": "python",
   "pygments_lexer": "ipython3",
   "version": "3.6.3"
  }
 },
 "nbformat": 4,
 "nbformat_minor": 2
}
